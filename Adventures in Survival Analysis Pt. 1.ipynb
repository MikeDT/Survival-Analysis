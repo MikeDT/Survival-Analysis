{
 "cells": [
  {
   "cell_type": "markdown",
   "metadata": {},
   "source": [
    "# Survival Analysis"
   ]
  },
  {
   "cell_type": "markdown",
   "metadata": {},
   "source": [
    "I first became interested in survival analysis while on a DataKind datadive where we were trying to model the churn of the users of a social enterprise's app.  It's been a while since then, but havving been mulling it over I thought it was high time to go back to basics and consider this stuff from first principles (or as close to first principles as I can stomach...)"
   ]
  },
  {
   "cell_type": "markdown",
   "metadata": {},
   "source": [
    "## Ultra Basic Model"
   ]
  },
  {
   "cell_type": "markdown",
   "metadata": {},
   "source": [
    "Ok, first up let's just create some dummy data of a really basic survival analysis sequence.  In this case a simple random decay model will do nicely, think the decays of a fissile atom - random but probabilistically predictable."
   ]
  },
  {
   "cell_type": "code",
   "execution_count": 2,
   "metadata": {},
   "outputs": [
    {
     "data": {
      "text/html": [
       "<div>\n",
       "<style scoped>\n",
       "    .dataframe tbody tr th:only-of-type {\n",
       "        vertical-align: middle;\n",
       "    }\n",
       "\n",
       "    .dataframe tbody tr th {\n",
       "        vertical-align: top;\n",
       "    }\n",
       "\n",
       "    .dataframe thead th {\n",
       "        text-align: right;\n",
       "    }\n",
       "</style>\n",
       "<table border=\"1\" class=\"dataframe\">\n",
       "  <thead>\n",
       "    <tr style=\"text-align: right;\">\n",
       "      <th></th>\n",
       "      <th>t0</th>\n",
       "      <th>t1</th>\n",
       "      <th>t2</th>\n",
       "      <th>t3</th>\n",
       "      <th>t4</th>\n",
       "      <th>t5</th>\n",
       "      <th>t6</th>\n",
       "      <th>t7</th>\n",
       "      <th>t8</th>\n",
       "      <th>t9</th>\n",
       "      <th>...</th>\n",
       "      <th>t91</th>\n",
       "      <th>t92</th>\n",
       "      <th>t93</th>\n",
       "      <th>t94</th>\n",
       "      <th>t95</th>\n",
       "      <th>t96</th>\n",
       "      <th>t97</th>\n",
       "      <th>t98</th>\n",
       "      <th>t99</th>\n",
       "      <th>t100</th>\n",
       "    </tr>\n",
       "  </thead>\n",
       "  <tbody>\n",
       "    <tr>\n",
       "      <th>0</th>\n",
       "      <td>1</td>\n",
       "      <td>1.0</td>\n",
       "      <td>1.0</td>\n",
       "      <td>1.0</td>\n",
       "      <td>1.0</td>\n",
       "      <td>1.0</td>\n",
       "      <td>1.0</td>\n",
       "      <td>1.0</td>\n",
       "      <td>1.0</td>\n",
       "      <td>1.0</td>\n",
       "      <td>...</td>\n",
       "      <td>0.0</td>\n",
       "      <td>0.0</td>\n",
       "      <td>0.0</td>\n",
       "      <td>0.0</td>\n",
       "      <td>0.0</td>\n",
       "      <td>0.0</td>\n",
       "      <td>0.0</td>\n",
       "      <td>0.0</td>\n",
       "      <td>0.0</td>\n",
       "      <td>0.0</td>\n",
       "    </tr>\n",
       "    <tr>\n",
       "      <th>1</th>\n",
       "      <td>1</td>\n",
       "      <td>1.0</td>\n",
       "      <td>1.0</td>\n",
       "      <td>1.0</td>\n",
       "      <td>1.0</td>\n",
       "      <td>1.0</td>\n",
       "      <td>1.0</td>\n",
       "      <td>1.0</td>\n",
       "      <td>1.0</td>\n",
       "      <td>1.0</td>\n",
       "      <td>...</td>\n",
       "      <td>0.0</td>\n",
       "      <td>0.0</td>\n",
       "      <td>0.0</td>\n",
       "      <td>0.0</td>\n",
       "      <td>0.0</td>\n",
       "      <td>0.0</td>\n",
       "      <td>0.0</td>\n",
       "      <td>0.0</td>\n",
       "      <td>0.0</td>\n",
       "      <td>0.0</td>\n",
       "    </tr>\n",
       "    <tr>\n",
       "      <th>2</th>\n",
       "      <td>1</td>\n",
       "      <td>1.0</td>\n",
       "      <td>1.0</td>\n",
       "      <td>1.0</td>\n",
       "      <td>1.0</td>\n",
       "      <td>1.0</td>\n",
       "      <td>1.0</td>\n",
       "      <td>1.0</td>\n",
       "      <td>1.0</td>\n",
       "      <td>1.0</td>\n",
       "      <td>...</td>\n",
       "      <td>0.0</td>\n",
       "      <td>0.0</td>\n",
       "      <td>0.0</td>\n",
       "      <td>0.0</td>\n",
       "      <td>0.0</td>\n",
       "      <td>0.0</td>\n",
       "      <td>0.0</td>\n",
       "      <td>0.0</td>\n",
       "      <td>0.0</td>\n",
       "      <td>0.0</td>\n",
       "    </tr>\n",
       "    <tr>\n",
       "      <th>3</th>\n",
       "      <td>1</td>\n",
       "      <td>1.0</td>\n",
       "      <td>1.0</td>\n",
       "      <td>1.0</td>\n",
       "      <td>1.0</td>\n",
       "      <td>1.0</td>\n",
       "      <td>1.0</td>\n",
       "      <td>1.0</td>\n",
       "      <td>1.0</td>\n",
       "      <td>1.0</td>\n",
       "      <td>...</td>\n",
       "      <td>0.0</td>\n",
       "      <td>0.0</td>\n",
       "      <td>0.0</td>\n",
       "      <td>0.0</td>\n",
       "      <td>0.0</td>\n",
       "      <td>0.0</td>\n",
       "      <td>0.0</td>\n",
       "      <td>0.0</td>\n",
       "      <td>0.0</td>\n",
       "      <td>0.0</td>\n",
       "    </tr>\n",
       "    <tr>\n",
       "      <th>4</th>\n",
       "      <td>1</td>\n",
       "      <td>1.0</td>\n",
       "      <td>1.0</td>\n",
       "      <td>1.0</td>\n",
       "      <td>1.0</td>\n",
       "      <td>1.0</td>\n",
       "      <td>1.0</td>\n",
       "      <td>1.0</td>\n",
       "      <td>1.0</td>\n",
       "      <td>1.0</td>\n",
       "      <td>...</td>\n",
       "      <td>0.0</td>\n",
       "      <td>0.0</td>\n",
       "      <td>0.0</td>\n",
       "      <td>0.0</td>\n",
       "      <td>0.0</td>\n",
       "      <td>0.0</td>\n",
       "      <td>0.0</td>\n",
       "      <td>0.0</td>\n",
       "      <td>0.0</td>\n",
       "      <td>0.0</td>\n",
       "    </tr>\n",
       "  </tbody>\n",
       "</table>\n",
       "<p>5 rows × 101 columns</p>\n",
       "</div>"
      ],
      "text/plain": [
       "   t0   t1   t2   t3   t4   t5   t6   t7   t8   t9  ...   t91  t92  t93  t94  \\\n",
       "0   1  1.0  1.0  1.0  1.0  1.0  1.0  1.0  1.0  1.0  ...   0.0  0.0  0.0  0.0   \n",
       "1   1  1.0  1.0  1.0  1.0  1.0  1.0  1.0  1.0  1.0  ...   0.0  0.0  0.0  0.0   \n",
       "2   1  1.0  1.0  1.0  1.0  1.0  1.0  1.0  1.0  1.0  ...   0.0  0.0  0.0  0.0   \n",
       "3   1  1.0  1.0  1.0  1.0  1.0  1.0  1.0  1.0  1.0  ...   0.0  0.0  0.0  0.0   \n",
       "4   1  1.0  1.0  1.0  1.0  1.0  1.0  1.0  1.0  1.0  ...   0.0  0.0  0.0  0.0   \n",
       "\n",
       "   t95  t96  t97  t98  t99  t100  \n",
       "0  0.0  0.0  0.0  0.0  0.0   0.0  \n",
       "1  0.0  0.0  0.0  0.0  0.0   0.0  \n",
       "2  0.0  0.0  0.0  0.0  0.0   0.0  \n",
       "3  0.0  0.0  0.0  0.0  0.0   0.0  \n",
       "4  0.0  0.0  0.0  0.0  0.0   0.0  \n",
       "\n",
       "[5 rows x 101 columns]"
      ]
     },
     "execution_count": 2,
     "metadata": {},
     "output_type": "execute_result"
    }
   ],
   "source": [
    "import numpy as np\n",
    "import pandas as pd\n",
    "import random\n",
    "%matplotlib inline\n",
    "\n",
    "\n",
    "decay_hist_df = pd.DataFrame()\n",
    "num_atoms = 1000\n",
    "decay_hist_df['t0'] = [1]*num_atoms\n",
    "\n",
    "t=0\n",
    "while t < 100:\n",
    "    t+=1\n",
    "    decay_seq = np.asarray([random.randint(50, 100) for x in range(0, num_atoms)])/100\n",
    "    current_state = np.asarray(decay_hist_df['t' + str(t-1)])\n",
    "    decay_stat = np.around(current_state * decay_seq)\n",
    "    decay_hist_df['t' + str(t)] = list(decay_stat)\n",
    "    \n",
    "\n",
    "decay_hist_df.head(5)"
   ]
  },
  {
   "cell_type": "markdown",
   "metadata": {},
   "source": [
    "Ok so we've now got some dummy synthetic data to have a stab at.  Now in the interests of being a good DS citien the first thing I'm going to do is plot this data as a histogram, to get a sense of the decay"
   ]
  },
  {
   "cell_type": "code",
   "execution_count": 3,
   "metadata": {},
   "outputs": [
    {
     "data": {
      "text/plain": [
       "<matplotlib.axes._subplots.AxesSubplot at 0x2ba72f99828>"
      ]
     },
     "execution_count": 3,
     "metadata": {},
     "output_type": "execute_result"
    },
    {
     "data": {
      "image/png": "[encoded data removed]",
      "text/plain": [
       "<Figure size 432x288 with 1 Axes>"
      ]
     },
     "metadata": {},
     "output_type": "display_data"
    }
   ],
   "source": [
    "decay_hist_df.mean().plot(kind='bar', color = 'b')"
   ]
  },
  {
   "cell_type": "markdown",
   "metadata": {},
   "source": [
    "Interesting, we can clearly see a quadratic decay function.  Now let's start using the python package lifelines to do some modelling on this:"
   ]
  },
  {
   "cell_type": "code",
   "execution_count": 4,
   "metadata": {},
   "outputs": [],
   "source": [
    "import lifelines"
   ]
  },
  {
   "cell_type": "markdown",
   "metadata": {},
   "source": [
    "First we need to massage the data into the correct format (the observant amongst us will notice that I could've/should've done this with the data from the start, but a bit of pandas practice never hut anyone)"
   ]
  },
  {
   "cell_type": "code",
   "execution_count": 5,
   "metadata": {},
   "outputs": [
    {
     "data": {
      "text/html": [
       "<div>\n",
       "<style scoped>\n",
       "    .dataframe tbody tr th:only-of-type {\n",
       "        vertical-align: middle;\n",
       "    }\n",
       "\n",
       "    .dataframe tbody tr th {\n",
       "        vertical-align: top;\n",
       "    }\n",
       "\n",
       "    .dataframe thead th {\n",
       "        text-align: right;\n",
       "    }\n",
       "</style>\n",
       "<table border=\"1\" class=\"dataframe\">\n",
       "  <thead>\n",
       "    <tr style=\"text-align: right;\">\n",
       "      <th></th>\n",
       "      <th>event</th>\n",
       "      <th>t</th>\n",
       "    </tr>\n",
       "  </thead>\n",
       "  <tbody>\n",
       "    <tr>\n",
       "      <th>0</th>\n",
       "      <td>1000.0</td>\n",
       "      <td>0</td>\n",
       "    </tr>\n",
       "    <tr>\n",
       "      <th>1</th>\n",
       "      <td>981.0</td>\n",
       "      <td>1</td>\n",
       "    </tr>\n",
       "    <tr>\n",
       "      <th>2</th>\n",
       "      <td>955.0</td>\n",
       "      <td>2</td>\n",
       "    </tr>\n",
       "    <tr>\n",
       "      <th>3</th>\n",
       "      <td>935.0</td>\n",
       "      <td>3</td>\n",
       "    </tr>\n",
       "    <tr>\n",
       "      <th>4</th>\n",
       "      <td>919.0</td>\n",
       "      <td>4</td>\n",
       "    </tr>\n",
       "  </tbody>\n",
       "</table>\n",
       "</div>"
      ],
      "text/plain": [
       "    event  t\n",
       "0  1000.0  0\n",
       "1   981.0  1\n",
       "2   955.0  2\n",
       "3   935.0  3\n",
       "4   919.0  4"
      ]
     },
     "execution_count": 5,
     "metadata": {},
     "output_type": "execute_result"
    }
   ],
   "source": [
    "df = pd.DataFrame()\n",
    "df['event'] = list(decay_hist_df.sum())\n",
    "df['t'] = list(range(len(df)))\n",
    "df.head(5)"
   ]
  },
  {
   "cell_type": "markdown",
   "metadata": {},
   "source": [
    "Ok, first up Kaplan Meier.  This is you bog standard model, not terribly sophisticated (in fact it's really just a graphical plot, like the best fit line you'd draw in school only with all the dots joined)."
   ]
  },
  {
   "cell_type": "code",
   "execution_count": 6,
   "metadata": {},
   "outputs": [
    {
     "data": {
      "text/plain": [
       "<lifelines.KaplanMeierFitter: fitted with 101 observations, 0 censored>"
      ]
     },
     "execution_count": 6,
     "metadata": {},
     "output_type": "execute_result"
    }
   ],
   "source": [
    "from lifelines import KaplanMeierFitter\n",
    "\n",
    "t = df['t']\n",
    "event = df['event']\n",
    "\n",
    "kmf = KaplanMeierFitter()\n",
    "kmf.fit(t, event_observed=event)\n"
   ]
  },
  {
   "cell_type": "markdown",
   "metadata": {},
   "source": [
    "Ok, now we've fit the model, let's plot it out..."
   ]
  },
  {
   "cell_type": "code",
   "execution_count": 7,
   "metadata": {},
   "outputs": [
    {
     "name": "stdout",
     "output_type": "stream",
     "text": [
      "Median:  50.0\n"
     ]
    },
    {
     "data": {
      "text/plain": [
       "<matplotlib.axes._subplots.AxesSubplot at 0x2ba73b5c550>"
      ]
     },
     "execution_count": 7,
     "metadata": {},
     "output_type": "execute_result"
    },
    {
     "data": {
      "image/png": "[encoded data removed]",
      "text/plain": [
       "<Figure size 432x288 with 1 Axes>"
      ]
     },
     "metadata": {},
     "output_type": "display_data"
    }
   ],
   "source": [
    "kmf.survival_function_\n",
    "kmf.confidence_interval_\n",
    "print('Median: ',kmf.median_)\n",
    "kmf.plot()"
   ]
  },
  {
   "cell_type": "markdown",
   "metadata": {},
   "source": [
    "Interesting thus far.  Let's take a look at some more representative data.  The lifelines package comes with some nifty ones:"
   ]
  },
  {
   "cell_type": "code",
   "execution_count": 8,
   "metadata": {},
   "outputs": [],
   "source": [
    "from lifelines.datasets import load_waltons\n",
    "df = load_waltons()\n",
    "t = df['T']\n",
    "event = df['E']\n"
   ]
  },
  {
   "cell_type": "markdown",
   "metadata": {},
   "source": [
    "And we refit with Kaplan Meier"
   ]
  },
  {
   "cell_type": "code",
   "execution_count": 9,
   "metadata": {},
   "outputs": [
    {
     "data": {
      "text/plain": [
       "<lifelines.KaplanMeierFitter: fitted with 163 observations, 7 censored>"
      ]
     },
     "execution_count": 9,
     "metadata": {},
     "output_type": "execute_result"
    }
   ],
   "source": [
    "kmf = KaplanMeierFitter()\n",
    "kmf.fit(t, event_observed=event)"
   ]
  },
  {
   "cell_type": "code",
   "execution_count": 10,
   "metadata": {},
   "outputs": [
    {
     "name": "stdout",
     "output_type": "stream",
     "text": [
      "Median:  56.0\n"
     ]
    },
    {
     "data": {
      "text/plain": [
       "<matplotlib.axes._subplots.AxesSubplot at 0x2ba73e779b0>"
      ]
     },
     "execution_count": 10,
     "metadata": {},
     "output_type": "execute_result"
    },
    {
     "data": {
      "image/png": "[encoded data removed]",
      "text/plain": [
       "<Figure size 432x288 with 1 Axes>"
      ]
     },
     "metadata": {},
     "output_type": "display_data"
    }
   ],
   "source": [
    "kmf.survival_function_\n",
    "kmf.confidence_interval_\n",
    "print('Median: ',kmf.median_)\n",
    "kmf.plot()"
   ]
  },
  {
   "cell_type": "markdown",
   "metadata": {},
   "source": [
    "Again we can see the confidence intervals wrapping the KM plot, giving us a sense of the projection quality\n"
   ]
  },
  {
   "cell_type": "code",
   "execution_count": 11,
   "metadata": {},
   "outputs": [
    {
     "name": "stdout",
     "output_type": "stream",
     "text": [
      "Iteration 1: norm_delta = 1.76690, step_size = 0.9500, ll = -646.30919, newton_decrement = 58.57409, seconds_since_start = 0.0\n",
      "Iteration 2: norm_delta = 0.90929, step_size = 0.9500, ll = -666.22061, newton_decrement = 58.30696, seconds_since_start = 0.0\n",
      "Iteration 3: norm_delta = 0.02201, step_size = 0.9500, ll = -613.21202, newton_decrement = 0.03035, seconds_since_start = 0.0\n",
      "Iteration 4: norm_delta = 0.00088, step_size = 1.0000, ll = -613.18193, newton_decrement = 0.00005, seconds_since_start = 0.0\n",
      "Iteration 5: norm_delta = 0.00000, step_size = 1.0000, ll = -613.18188, newton_decrement = 0.00000, seconds_since_start = 0.0\n",
      "Convergence completed after 5 iterations.\n",
      "<lifelines.CoxPHFitter: fitted with 163 observations, 7 censored>\n",
      "      duration col = 'T'\n",
      "         event col = 'E'\n",
      "number of subjects = 163\n",
      "  number of events = 156\n",
      "    log-likelihood = -613.18\n",
      "  time fit was run = 2019-04-19 19:03:06 UTC\n",
      "\n",
      "---\n",
      "               coef exp(coef)  se(coef)     z      p  -log2(p)  lower 0.95  upper 0.95\n",
      "group_control -2.05      0.13      0.22 -9.46 <0.005     68.14       -2.48       -1.63\n",
      "---\n",
      "Concordance = 0.66\n",
      "Log-likelihood ratio test = 66.25 on 1 df, -log2(p)=51.16\n"
     ]
    },
    {
     "name": "stderr",
     "output_type": "stream",
     "text": [
      "C:\\Users\\Mike\\Anaconda3\\envs\\py35\\lib\\site-packages\\lifelines\\utils\\__init__.py:925: ConvergenceWarning: Column group_control have very low variance when conditioned on death event present or not. This may harm convergence. This could be a form of 'complete separation'. For example, try the following code:\n",
      "\n",
      ">>> events = df['E'].astype(bool)\n",
      ">>> print(df.loc[events, 'group_control'].var())\n",
      ">>> print(df.loc[~events, 'group_control'].var())\n",
      "\n",
      "A very low variance means that the column group_control completely determines whether a subject dies or not. See https://stats.stackexchange.com/questions/11109/how-to-deal-with-perfect-separation-in-logistic-regression \n",
      "  warnings.warn(warning_text, ConvergenceWarning)\n"
     ]
    }
   ],
   "source": [
    "from lifelines import CoxPHFitter\n",
    "df = pd.get_dummies(df)\n",
    "df = df.drop(columns=['group_miR-137'],axis=1) # making for a more compact model, no extra info was/is included in this variable\n",
    "\n",
    "cph = CoxPHFitter()\n",
    "cph.fit(df,duration_col='T', event_col='E', show_progress=True)\n",
    "\n",
    "cph.print_summary()"
   ]
  },
  {
   "cell_type": "markdown",
   "metadata": {
    "collapsed": true
   },
   "source": [
    "Ok, so let's examine this; the warning is pretty prescient, with the group_control dimension dictating the outcomes.  We can see this backed up by the coefficient estimated by the model, that is -2.05 and a z score which is well within the significant boundary (presumed to be 0.05 given stats' dirty little 1 in 20 secret).  The stats also give us an opportunity to calcualte a BIC score, a neat and super simple (though for now admittedly redundant, given no competing models) way to measure model quality.  The calculation is as follows"
   ]
  },
  {
   "cell_type": "markdown",
   "metadata": {},
   "source": [
    "$BIC Score = ln(n)k - 2ln(Likelihood)$"
   ]
  },
  {
   "cell_type": "markdown",
   "metadata": {},
   "source": [
    "where n is the data set size and k is the number of parameters (1 in the case above)\n"
   ]
  },
  {
   "cell_type": "code",
   "execution_count": 12,
   "metadata": {},
   "outputs": [
    {
     "name": "stdout",
     "output_type": "stream",
     "text": [
      "BIC Score 78.32750040161352\n"
     ]
    }
   ],
   "source": [
    "import math\n",
    "def BIC(n,k,twoll):\n",
    "    BIC_score = 2* math.log(n)*k + twoll\n",
    "    return BIC_score\n",
    "print(\"BIC Score\",BIC(163,1,68.14))"
   ]
  },
  {
   "cell_type": "markdown",
   "metadata": {},
   "source": [
    "## Improvements..."
   ]
  },
  {
   "cell_type": "markdown",
   "metadata": {},
   "source": [
    "So far we've only looked at a single, uber simple, model.  Time to get more into the thick of it.  !st off, let's get ourselves a more complex data set"
   ]
  },
  {
   "cell_type": "code",
   "execution_count": 13,
   "metadata": {},
   "outputs": [],
   "source": [
    "from lifelines.datasets import load_rossi\n",
    "\n",
    "rossi_dataset = load_rossi()"
   ]
  },
  {
   "cell_type": "code",
   "execution_count": 14,
   "metadata": {},
   "outputs": [
    {
     "data": {
      "text/html": [
       "<div>\n",
       "<style scoped>\n",
       "    .dataframe tbody tr th:only-of-type {\n",
       "        vertical-align: middle;\n",
       "    }\n",
       "\n",
       "    .dataframe tbody tr th {\n",
       "        vertical-align: top;\n",
       "    }\n",
       "\n",
       "    .dataframe thead th {\n",
       "        text-align: right;\n",
       "    }\n",
       "</style>\n",
       "<table border=\"1\" class=\"dataframe\">\n",
       "  <thead>\n",
       "    <tr style=\"text-align: right;\">\n",
       "      <th></th>\n",
       "      <th>week</th>\n",
       "      <th>arrest</th>\n",
       "      <th>fin</th>\n",
       "      <th>age</th>\n",
       "      <th>race</th>\n",
       "      <th>wexp</th>\n",
       "      <th>mar</th>\n",
       "      <th>paro</th>\n",
       "      <th>prio</th>\n",
       "    </tr>\n",
       "  </thead>\n",
       "  <tbody>\n",
       "    <tr>\n",
       "      <th>0</th>\n",
       "      <td>20</td>\n",
       "      <td>1</td>\n",
       "      <td>0</td>\n",
       "      <td>27</td>\n",
       "      <td>1</td>\n",
       "      <td>0</td>\n",
       "      <td>0</td>\n",
       "      <td>1</td>\n",
       "      <td>3</td>\n",
       "    </tr>\n",
       "    <tr>\n",
       "      <th>1</th>\n",
       "      <td>17</td>\n",
       "      <td>1</td>\n",
       "      <td>0</td>\n",
       "      <td>18</td>\n",
       "      <td>1</td>\n",
       "      <td>0</td>\n",
       "      <td>0</td>\n",
       "      <td>1</td>\n",
       "      <td>8</td>\n",
       "    </tr>\n",
       "    <tr>\n",
       "      <th>2</th>\n",
       "      <td>25</td>\n",
       "      <td>1</td>\n",
       "      <td>0</td>\n",
       "      <td>19</td>\n",
       "      <td>0</td>\n",
       "      <td>1</td>\n",
       "      <td>0</td>\n",
       "      <td>1</td>\n",
       "      <td>13</td>\n",
       "    </tr>\n",
       "    <tr>\n",
       "      <th>3</th>\n",
       "      <td>52</td>\n",
       "      <td>0</td>\n",
       "      <td>1</td>\n",
       "      <td>23</td>\n",
       "      <td>1</td>\n",
       "      <td>1</td>\n",
       "      <td>1</td>\n",
       "      <td>1</td>\n",
       "      <td>1</td>\n",
       "    </tr>\n",
       "    <tr>\n",
       "      <th>4</th>\n",
       "      <td>52</td>\n",
       "      <td>0</td>\n",
       "      <td>0</td>\n",
       "      <td>19</td>\n",
       "      <td>0</td>\n",
       "      <td>1</td>\n",
       "      <td>0</td>\n",
       "      <td>1</td>\n",
       "      <td>3</td>\n",
       "    </tr>\n",
       "  </tbody>\n",
       "</table>\n",
       "</div>"
      ],
      "text/plain": [
       "   week  arrest  fin  age  race  wexp  mar  paro  prio\n",
       "0    20       1    0   27     1     0    0     1     3\n",
       "1    17       1    0   18     1     0    0     1     8\n",
       "2    25       1    0   19     0     1    0     1    13\n",
       "3    52       0    1   23     1     1    1     1     1\n",
       "4    52       0    0   19     0     1    0     1     3"
      ]
     },
     "execution_count": 14,
     "metadata": {},
     "output_type": "execute_result"
    }
   ],
   "source": [
    "rossi_dataset.head(5)"
   ]
  },
  {
   "cell_type": "markdown",
   "metadata": {},
   "source": [
    "That's more like it... Now let's analyse, but time to stick with a Cox Proportional Hazards model"
   ]
  },
  {
   "cell_type": "code",
   "execution_count": 15,
   "metadata": {},
   "outputs": [
    {
     "name": "stdout",
     "output_type": "stream",
     "text": [
      "Iteration 1: norm_delta = 0.50881, step_size = 0.9500, ll = -675.38063, newton_decrement = 16.76434, seconds_since_start = 0.0\n",
      "Iteration 2: norm_delta = 0.13852, step_size = 0.9500, ll = -659.79004, newton_decrement = 0.99157, seconds_since_start = 0.0\n",
      "Iteration 3: norm_delta = 0.01802, step_size = 0.9500, ll = -658.76197, newton_decrement = 0.01422, seconds_since_start = 0.0\n",
      "Iteration 4: norm_delta = 0.00108, step_size = 1.0000, ll = -658.74771, newton_decrement = 0.00005, seconds_since_start = 0.0\n",
      "Iteration 5: norm_delta = 0.00000, step_size = 1.0000, ll = -658.74766, newton_decrement = 0.00000, seconds_since_start = 0.0\n",
      "Convergence completed after 5 iterations.\n",
      "<lifelines.CoxPHFitter: fitted with 432 observations, 318 censored>\n",
      "      duration col = 'week'\n",
      "         event col = 'arrest'\n",
      "number of subjects = 432\n",
      "  number of events = 114\n",
      "    log-likelihood = -658.75\n",
      "  time fit was run = 2019-04-19 19:03:15 UTC\n",
      "\n",
      "---\n",
      "      coef exp(coef)  se(coef)     z      p  -log2(p)  lower 0.95  upper 0.95\n",
      "fin  -0.38      0.68      0.19 -1.98   0.05      4.40       -0.75       -0.00\n",
      "age  -0.06      0.94      0.02 -2.61   0.01      6.79       -0.10       -0.01\n",
      "race  0.31      1.37      0.31  1.02   0.31      1.70       -0.29        0.92\n",
      "wexp -0.15      0.86      0.21 -0.71   0.48      1.06       -0.57        0.27\n",
      "mar  -0.43      0.65      0.38 -1.14   0.26      1.97       -1.18        0.31\n",
      "paro -0.08      0.92      0.20 -0.43   0.66      0.59       -0.47        0.30\n",
      "prio  0.09      1.10      0.03  3.19 <0.005      9.48        0.04        0.15\n",
      "---\n",
      "Concordance = 0.64\n",
      "Log-likelihood ratio test = 33.27 on 7 df, -log2(p)=15.37\n"
     ]
    }
   ],
   "source": [
    "cph = CoxPHFitter()\n",
    "cph.fit(rossi_dataset, duration_col='week', event_col='arrest', show_progress=True)\n",
    "\n",
    "cph.print_summary()"
   ]
  },
  {
   "cell_type": "markdown",
   "metadata": {},
   "source": [
    "So, we can see with some certainty that the 'prio', 'fin' and 'age' dimensions have a significant negative relationship with survival, with thre rest being non significant.  Worth noting that fin is only JUST in the significance marker and hence a sliver of p hacking could be in play (if we were reporting these results to ruthless academics).  Now let's look at the BIC score..."
   ]
  },
  {
   "cell_type": "code",
   "execution_count": 16,
   "metadata": {},
   "outputs": [
    {
     "name": "stdout",
     "output_type": "stream",
     "text": [
      "BIC Score 100.32795823541755\n"
     ]
    }
   ],
   "source": [
    "print(\"BIC Score\", BIC(432,7,15.37))"
   ]
  },
  {
   "cell_type": "markdown",
   "metadata": {},
   "source": [
    "Not so fast - let's look at the assumptions shall we.  The proportional hazard bit of the model is very important (basically that as time progresses the hazards remain proportionate to one another, imagine a scenario where being a start up increases the likelihood of default in the first 5 years, but after that becomes irrelavant, that's a non proportional hazard )"
   ]
  },
  {
   "cell_type": "code",
   "execution_count": 20,
   "metadata": {},
   "outputs": [
    {
     "name": "stdout",
     "output_type": "stream",
     "text": [
      "The ``p_value_threshold`` is set at 0.05. Even under the null hypothesis of no violations, some\n",
      "covariates will be below the threshold by chance. This is compounded when there are many covariates.\n",
      "Similarly, when there are lots of observations, even minor deviances from the proportional hazard\n",
      "assumption will be flagged.\n",
      "\n",
      "With that in mind, it's best to use a combination of statistical tests and visual tests to determine\n",
      "the most serious violations. Produce visual plots using ``check_assumptions(..., show_plots=True)``\n",
      "and looking for non-constant lines. See link [A] below for a full example.\n",
      "\n",
      "<lifelines.StatisticalResult>\n",
      " null_distribution = chi squared\n",
      "degrees_of_freedom = 1\n",
      "         test_name = proportional_hazard_test\n",
      "\n",
      "---\n",
      "           test_statistic      p  -log2(p)\n",
      "age  km             11.03 <0.005     10.12\n",
      "     rank           11.09 <0.005     10.17\n",
      "fin  km              0.02   0.89      0.17\n",
      "     rank            0.02   0.90      0.16\n",
      "mar  km              0.60   0.44      1.19\n",
      "     rank            0.67   0.41      1.27\n",
      "paro km              0.12   0.73      0.45\n",
      "     rank            0.14   0.71      0.49\n",
      "prio km              0.02   0.88      0.18\n",
      "     rank            0.02   0.88      0.18\n",
      "race km              1.44   0.23      2.12\n",
      "     rank            1.46   0.23      2.14\n",
      "wexp km              7.48   0.01      7.32\n",
      "     rank            7.18   0.01      7.08\n",
      "\n",
      "\n",
      "1. Variable 'age' failed the non-proportional test: p-value is 0.0009.\n",
      "\n",
      "   Advice 1: the functional form of the variable 'age' might be incorrect. That is, there may be\n",
      "non-linear terms missing. The proportional hazard test used is very sensitive to incorrect\n",
      "functional forms. See documentation in link [D] below on how to specify a functional form.\n",
      "\n",
      "   Advice 2: try binning the variable 'age' using pd.cut, and then specify it in `strata=['age',\n",
      "...]` in the call in `.fit`. See documentation in link [B] below.\n",
      "\n",
      "   Advice 3: try adding an interaction term with your time variable. See documentation in link [C]\n",
      "below.\n",
      "\n",
      "\n",
      "2. Variable 'wexp' failed the non-proportional test: p-value is 0.0063.\n",
      "\n",
      "   Advice: with so few unique values (only 2), you can include `strata=['wexp', ...]` in the call in\n",
      "`.fit`. See documentation in link [E] below.\n",
      "\n",
      "---\n",
      "[A]  https://lifelines.readthedocs.io/en/latest/jupyter_notebooks/Proportional%20hazard%20assumption.html\n",
      "[B]  https://lifelines.readthedocs.io/en/latest/jupyter_notebooks/Proportional%20hazard%20assumption.html#Bin-variable-and-stratify-on-it\n",
      "[C]  https://lifelines.readthedocs.io/en/latest/jupyter_notebooks/Proportional%20hazard%20assumption.html#Introduce-time-varying-covariates\n",
      "[D]  https://lifelines.readthedocs.io/en/latest/jupyter_notebooks/Proportional%20hazard%20assumption.html#Modify-the-functional-form\n",
      "[E]  https://lifelines.readthedocs.io/en/latest/jupyter_notebooks/Proportional%20hazard%20assumption.html#Stratification\n",
      "\n"
     ]
    },
    {
     "data": {
      "image/png": "[encoded data removed]",
      "text/plain": [
       "<Figure size 432x288 with 2 Axes>"
      ]
     },
     "metadata": {},
     "output_type": "display_data"
    },
    {
     "data": {
      "image/png": "[encoded data removed]",
      "text/plain": [
       "<Figure size 432x288 with 2 Axes>"
      ]
     },
     "metadata": {},
     "output_type": "display_data"
    }
   ],
   "source": [
    "cph.check_assumptions(rossi_dataset, p_value_threshold=0.05, show_plots=True)"
   ]
  },
  {
   "cell_type": "markdown",
   "metadata": {},
   "source": [
    "Not good... This can also be done brute force by looking at the KM plots, but taht's basically what the results above"
   ]
  },
  {
   "cell_type": "code",
   "execution_count": null,
   "metadata": {},
   "outputs": [],
   "source": []
  }
 ],
 "metadata": {
  "anaconda-cloud": {},
  "kernelspec": {
   "display_name": "Python 3",
   "language": "python",
   "name": "python3"
  },
  "language_info": {
   "codemirror_mode": {
    "name": "ipython",
    "version": 3
   },
   "file_extension": ".py",
   "mimetype": "text/x-python",
   "name": "python",
   "nbconvert_exporter": "python",
   "pygments_lexer": "ipython3",
   "version": "3.5.5"
  }
 },
 "nbformat": 4,
 "nbformat_minor": 1
}
